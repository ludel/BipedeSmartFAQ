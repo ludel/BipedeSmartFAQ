{
 "cells": [
  {
   "cell_type": "code",
   "execution_count": 2,
   "metadata": {
    "collapsed": true
   },
   "outputs": [],
   "source": [
    "import pandas as pd"
   ]
  },
  {
   "cell_type": "code",
   "execution_count": 4,
   "outputs": [],
   "source": [
    "df_answers = pd.read_csv('../data/Answers.csv', encoding='latin')\n",
    "df_questions = pd.read_csv('../data/Questions.csv', encoding='latin')"
   ],
   "metadata": {
    "collapsed": false,
    "pycharm": {
     "name": "#%%\n"
    }
   }
  },
  {
   "cell_type": "code",
   "execution_count": 14,
   "outputs": [],
   "source": [
    "df = pd.merge(df_questions, df_answers, suffixes=['_question', '_answer'], how='left', left_on='Id', right_on='ParentId')"
   ],
   "metadata": {
    "collapsed": false,
    "pycharm": {
     "name": "#%%\n"
    }
   }
  },
  {
   "cell_type": "code",
   "execution_count": 15,
   "outputs": [
    {
     "data": {
      "text/plain": "   Id_question  OwnerUserId_question CreationDate_question  Score_question  \\\n0          469                 147.0  2008-08-02T15:11:16Z              21   \n1          469                 147.0  2008-08-02T15:11:16Z              21   \n2          469                 147.0  2008-08-02T15:11:16Z              21   \n3          469                 147.0  2008-08-02T15:11:16Z              21   \n4          502                 147.0  2008-08-02T17:01:58Z              27   \n\n                                               Title  \\\n0  How can I find the full path to a font from it...   \n1  How can I find the full path to a font from it...   \n2  How can I find the full path to a font from it...   \n3  How can I find the full path to a font from it...   \n4            Get a preview JPEG of a PDF on Windows?   \n\n                                       Body_question  Id_answer  \\\n0  <p>I am using the Photoshop's javascript API t...      497.0   \n1  <p>I am using the Photoshop's javascript API t...      518.0   \n2  <p>I am using the Photoshop's javascript API t...     3040.0   \n3  <p>I am using the Photoshop's javascript API t...   195170.0   \n4  <p>I have a cross-platform (Python) applicatio...      536.0   \n\n   OwnerUserId_answer   CreationDate_answer  ParentId  Score_answer  \\\n0                50.0  2008-08-02T16:56:53Z     469.0           4.0   \n1               153.0  2008-08-02T17:42:28Z     469.0           2.0   \n2               457.0  2008-08-06T03:01:23Z     469.0          12.0   \n3               745.0  2008-10-12T07:02:40Z     469.0           1.0   \n4               161.0  2008-08-02T18:49:07Z     502.0           9.0   \n\n                                         Body_answer  \n0  <p>open up a terminal (Applications-&gt;Utilit...  \n1  <p>I haven't been able to find anything that d...  \n2  <p>Unfortunately the only API that isn't depre...  \n3  <p>There must be a method in Cocoa to get a li...  \n4  <p>You can use ImageMagick's convert utility f...  ",
      "text/html": "<div>\n<style scoped>\n    .dataframe tbody tr th:only-of-type {\n        vertical-align: middle;\n    }\n\n    .dataframe tbody tr th {\n        vertical-align: top;\n    }\n\n    .dataframe thead th {\n        text-align: right;\n    }\n</style>\n<table border=\"1\" class=\"dataframe\">\n  <thead>\n    <tr style=\"text-align: right;\">\n      <th></th>\n      <th>Id_question</th>\n      <th>OwnerUserId_question</th>\n      <th>CreationDate_question</th>\n      <th>Score_question</th>\n      <th>Title</th>\n      <th>Body_question</th>\n      <th>Id_answer</th>\n      <th>OwnerUserId_answer</th>\n      <th>CreationDate_answer</th>\n      <th>ParentId</th>\n      <th>Score_answer</th>\n      <th>Body_answer</th>\n    </tr>\n  </thead>\n  <tbody>\n    <tr>\n      <th>0</th>\n      <td>469</td>\n      <td>147.0</td>\n      <td>2008-08-02T15:11:16Z</td>\n      <td>21</td>\n      <td>How can I find the full path to a font from it...</td>\n      <td>&lt;p&gt;I am using the Photoshop's javascript API t...</td>\n      <td>497.0</td>\n      <td>50.0</td>\n      <td>2008-08-02T16:56:53Z</td>\n      <td>469.0</td>\n      <td>4.0</td>\n      <td>&lt;p&gt;open up a terminal (Applications-&amp;gt;Utilit...</td>\n    </tr>\n    <tr>\n      <th>1</th>\n      <td>469</td>\n      <td>147.0</td>\n      <td>2008-08-02T15:11:16Z</td>\n      <td>21</td>\n      <td>How can I find the full path to a font from it...</td>\n      <td>&lt;p&gt;I am using the Photoshop's javascript API t...</td>\n      <td>518.0</td>\n      <td>153.0</td>\n      <td>2008-08-02T17:42:28Z</td>\n      <td>469.0</td>\n      <td>2.0</td>\n      <td>&lt;p&gt;I haven't been able to find anything that d...</td>\n    </tr>\n    <tr>\n      <th>2</th>\n      <td>469</td>\n      <td>147.0</td>\n      <td>2008-08-02T15:11:16Z</td>\n      <td>21</td>\n      <td>How can I find the full path to a font from it...</td>\n      <td>&lt;p&gt;I am using the Photoshop's javascript API t...</td>\n      <td>3040.0</td>\n      <td>457.0</td>\n      <td>2008-08-06T03:01:23Z</td>\n      <td>469.0</td>\n      <td>12.0</td>\n      <td>&lt;p&gt;Unfortunately the only API that isn't depre...</td>\n    </tr>\n    <tr>\n      <th>3</th>\n      <td>469</td>\n      <td>147.0</td>\n      <td>2008-08-02T15:11:16Z</td>\n      <td>21</td>\n      <td>How can I find the full path to a font from it...</td>\n      <td>&lt;p&gt;I am using the Photoshop's javascript API t...</td>\n      <td>195170.0</td>\n      <td>745.0</td>\n      <td>2008-10-12T07:02:40Z</td>\n      <td>469.0</td>\n      <td>1.0</td>\n      <td>&lt;p&gt;There must be a method in Cocoa to get a li...</td>\n    </tr>\n    <tr>\n      <th>4</th>\n      <td>502</td>\n      <td>147.0</td>\n      <td>2008-08-02T17:01:58Z</td>\n      <td>27</td>\n      <td>Get a preview JPEG of a PDF on Windows?</td>\n      <td>&lt;p&gt;I have a cross-platform (Python) applicatio...</td>\n      <td>536.0</td>\n      <td>161.0</td>\n      <td>2008-08-02T18:49:07Z</td>\n      <td>502.0</td>\n      <td>9.0</td>\n      <td>&lt;p&gt;You can use ImageMagick's convert utility f...</td>\n    </tr>\n  </tbody>\n</table>\n</div>"
     },
     "execution_count": 15,
     "metadata": {},
     "output_type": "execute_result"
    }
   ],
   "source": [
    "df.head()"
   ],
   "metadata": {
    "collapsed": false,
    "pycharm": {
     "name": "#%%\n"
    }
   }
  },
  {
   "cell_type": "code",
   "execution_count": 16,
   "outputs": [],
   "source": [],
   "metadata": {
    "collapsed": false,
    "pycharm": {
     "name": "#%%\n"
    }
   }
  }
 ],
 "metadata": {
  "kernelspec": {
   "display_name": "Python 3",
   "language": "python",
   "name": "python3"
  },
  "language_info": {
   "codemirror_mode": {
    "name": "ipython",
    "version": 2
   },
   "file_extension": ".py",
   "mimetype": "text/x-python",
   "name": "python",
   "nbconvert_exporter": "python",
   "pygments_lexer": "ipython2",
   "version": "2.7.6"
  }
 },
 "nbformat": 4,
 "nbformat_minor": 0
}